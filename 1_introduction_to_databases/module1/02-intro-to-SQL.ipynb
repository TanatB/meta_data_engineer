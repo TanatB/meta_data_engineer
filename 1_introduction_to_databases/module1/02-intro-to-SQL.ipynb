{
 "cells": [
  {
   "cell_type": "markdown",
   "metadata": {},
   "source": [
    "# Structured Query Language (SQL)"
   ]
  },
  {
   "cell_type": "markdown",
   "metadata": {},
   "source": [
    "## SQL and Relational Database\n",
    "1. MySQL\n",
    "2. PostgreSQL\n",
    "3. pgAdmin"
   ]
  },
  {
   "cell_type": "markdown",
   "metadata": {},
   "source": [
    "## DBMS\n",
    "Changes SQL instructions into a form understood by the database"
   ]
  },
  {
   "cell_type": "markdown",
   "metadata": {},
   "source": [
    "## SQL subsets\n",
    "1. Data Definition Language\n",
    "2. Data Manipulation Language\n",
    "3. Data Query Language\n",
    "4. Data Control Language"
   ]
  }
 ],
 "metadata": {
  "language_info": {
   "name": "python"
  }
 },
 "nbformat": 4,
 "nbformat_minor": 2
}
